{
 "cells": [
  {
   "cell_type": "markdown",
   "metadata": {},
   "source": [
    "# Overview\n",
    "\n",
    "## Replicate the analysis and figures reported in the study xxxx\n",
    "\n"
   ]
  },
  {
   "cell_type": "markdown",
   "metadata": {},
   "source": [
    "# [01_article_analysis](https://mybinder.org/v2/gh/amabdallah/Reproducibility_Notebooks/master?filepath=01_article_analysis.ipynb)\n",
    "\n"
   ]
  },
  {
   "cell_type": "markdown",
   "metadata": {},
   "source": [
    "# [02_reproduc_data_handling](https://mybinder.org/v2/gh/amabdallah/Reproducibility_Notebooks/master?filepath=02_reproduc_data_handling.ipynb)"
   ]
  },
  {
   "cell_type": "markdown",
   "metadata": {},
   "source": [
    "# [03_reproduc_figs](https://mybinder.org/v2/gh/amabdallah/Reproducibility_Notebooks/master?filepath=03_reproduc_figs.ipynb)"
   ]
  },
  {
   "cell_type": "markdown",
   "metadata": {},
   "source": [
    "# [04_pop_estimate](https://mybinder.org/v2/gh/amabdallah/Reproducibility_Notebooks/master?filepath=04_pop_estimate.ipynb)"
   ]
  },
  {
   "cell_type": "code",
   "execution_count": null,
   "metadata": {},
   "outputs": [],
   "source": []
  }
 ],
 "metadata": {
  "kernelspec": {
   "display_name": "R",
   "language": "R",
   "name": "ir"
  },
  "language_info": {
   "codemirror_mode": "r",
   "file_extension": ".r",
   "mimetype": "text/x-r-source",
   "name": "R",
   "pygments_lexer": "r",
   "version": "3.4.4"
  }
 },
 "nbformat": 4,
 "nbformat_minor": 2
}
